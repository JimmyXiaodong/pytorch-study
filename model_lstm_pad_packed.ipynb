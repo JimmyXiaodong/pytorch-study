{
  "nbformat": 4,
  "nbformat_minor": 0,
  "metadata": {
    "colab": {
      "name": "model_lstm_pad_packed.ipynb",
      "provenance": [],
      "collapsed_sections": [],
      "authorship_tag": "ABX9TyNYAwDYkmT/p+L5p8w2MEfa",
      "include_colab_link": true
    },
    "kernelspec": {
      "name": "python3",
      "display_name": "Python 3"
    }
  },
  "cells": [
    {
      "cell_type": "markdown",
      "metadata": {
        "id": "view-in-github",
        "colab_type": "text"
      },
      "source": [
        "<a href=\"https://colab.research.google.com/github/JimmyXiaodong/pytorch-study/blob/master/model_lstm_pad_packed.ipynb\" target=\"_parent\"><img src=\"https://colab.research.google.com/assets/colab-badge.svg\" alt=\"Open In Colab\"/></a>"
      ]
    },
    {
      "cell_type": "code",
      "metadata": {
        "id": "499moUS3x-CO",
        "colab_type": "code",
        "colab": {
          "base_uri": "https://localhost:8080/",
          "height": 34
        },
        "outputId": "118c6376-c576-4907-9cc5-6dac655fee33"
      },
      "source": [
        "import torch\n",
        "from torch.nn.utils.rnn import pack_sequence\n",
        "\n",
        "\n",
        "a = torch.tensor([1, 2, 3])\n",
        "b = torch.tensor([4, 5])\n",
        "c = torch.tensor([6])\n",
        "\n",
        "pack_sequence([a, b, c])"
      ],
      "execution_count": null,
      "outputs": [
        {
          "output_type": "execute_result",
          "data": {
            "text/plain": [
              "PackedSequence(data=tensor([1, 4, 6, 2, 5, 3]), batch_sizes=tensor([3, 2, 1]), sorted_indices=None, unsorted_indices=None)"
            ]
          },
          "metadata": {
            "tags": []
          },
          "execution_count": 4
        }
      ]
    },
    {
      "cell_type": "code",
      "metadata": {
        "id": "mnv0gZpkEluK",
        "colab_type": "code",
        "colab": {}
      },
      "source": [
        "import torch as t\n",
        "from torch.nn.utils.rnn import pack_padded_sequence, pad_packed_sequence\n",
        "\n",
        "# a = t.tensor([[1,2,3], [6,0,0], [4,5,0]])\n",
        "a = t.tensor([[7,8,0],[9,0,0],[10,0,0]])\n",
        "lengths = t.tensor([2,1,1])"
      ],
      "execution_count": null,
      "outputs": []
    },
    {
      "cell_type": "code",
      "metadata": {
        "id": "sz-JzpJSKusZ",
        "colab_type": "code",
        "colab": {}
      },
      "source": [
        "a_lengths, idx = lengths.sort(0, descending=True)"
      ],
      "execution_count": null,
      "outputs": []
    },
    {
      "cell_type": "code",
      "metadata": {
        "id": "gcK7BeCZOSx2",
        "colab_type": "code",
        "colab": {
          "base_uri": "https://localhost:8080/",
          "height": 34
        },
        "outputId": "985c5765-8ac7-430d-d2ff-c903fe4abf10"
      },
      "source": [
        "a_lengths"
      ],
      "execution_count": null,
      "outputs": [
        {
          "output_type": "execute_result",
          "data": {
            "text/plain": [
              "tensor([2, 1, 1])"
            ]
          },
          "metadata": {
            "tags": []
          },
          "execution_count": 28
        }
      ]
    },
    {
      "cell_type": "code",
      "metadata": {
        "id": "VZH7HOZAOX2X",
        "colab_type": "code",
        "colab": {
          "base_uri": "https://localhost:8080/",
          "height": 34
        },
        "outputId": "f132806c-f861-4781-901f-c4fee5076e8c"
      },
      "source": [
        "idx"
      ],
      "execution_count": null,
      "outputs": [
        {
          "output_type": "execute_result",
          "data": {
            "text/plain": [
              "tensor([0, 1, 2])"
            ]
          },
          "metadata": {
            "tags": []
          },
          "execution_count": 29
        }
      ]
    },
    {
      "cell_type": "code",
      "metadata": {
        "id": "U4OLISP_OZfb",
        "colab_type": "code",
        "colab": {}
      },
      "source": [
        "temp, un_idx = t.sort(idx, dim=0)"
      ],
      "execution_count": null,
      "outputs": []
    },
    {
      "cell_type": "code",
      "metadata": {
        "id": "Mj_UZf0IOu7K",
        "colab_type": "code",
        "colab": {
          "base_uri": "https://localhost:8080/",
          "height": 34
        },
        "outputId": "ea7d102a-fd84-4be3-938b-f59e18c36a9c"
      },
      "source": [
        "un_idx"
      ],
      "execution_count": null,
      "outputs": [
        {
          "output_type": "execute_result",
          "data": {
            "text/plain": [
              "tensor([0, 1, 2])"
            ]
          },
          "metadata": {
            "tags": []
          },
          "execution_count": 31
        }
      ]
    },
    {
      "cell_type": "code",
      "metadata": {
        "id": "H_Zr609YOwoJ",
        "colab_type": "code",
        "colab": {
          "base_uri": "https://localhost:8080/",
          "height": 34
        },
        "outputId": "ce875bd8-97e1-415b-a9c2-120f7db7bedc"
      },
      "source": [
        "temp"
      ],
      "execution_count": null,
      "outputs": [
        {
          "output_type": "execute_result",
          "data": {
            "text/plain": [
              "tensor([0, 1, 2])"
            ]
          },
          "metadata": {
            "tags": []
          },
          "execution_count": 32
        }
      ]
    },
    {
      "cell_type": "code",
      "metadata": {
        "id": "KTlV0gZXO2ps",
        "colab_type": "code",
        "colab": {}
      },
      "source": [
        "a = a[idx]"
      ],
      "execution_count": null,
      "outputs": []
    },
    {
      "cell_type": "code",
      "metadata": {
        "id": "6GwRqJbUPIym",
        "colab_type": "code",
        "colab": {
          "base_uri": "https://localhost:8080/",
          "height": 68
        },
        "outputId": "e1654a6a-290c-4f10-ccf7-9e481cee5548"
      },
      "source": [
        "a"
      ],
      "execution_count": null,
      "outputs": [
        {
          "output_type": "execute_result",
          "data": {
            "text/plain": [
              "tensor([[ 7,  8,  0],\n",
              "        [ 9,  0,  0],\n",
              "        [10,  0,  0]])"
            ]
          },
          "metadata": {
            "tags": []
          },
          "execution_count": 34
        }
      ]
    },
    {
      "cell_type": "code",
      "metadata": {
        "id": "rDsJEKekPJS5",
        "colab_type": "code",
        "colab": {
          "base_uri": "https://localhost:8080/",
          "height": 34
        },
        "outputId": "3c9d54e3-bf46-434a-d965-f0cd3125e463"
      },
      "source": [
        "idx"
      ],
      "execution_count": null,
      "outputs": [
        {
          "output_type": "execute_result",
          "data": {
            "text/plain": [
              "tensor([0, 1, 2])"
            ]
          },
          "metadata": {
            "tags": []
          },
          "execution_count": 35
        }
      ]
    },
    {
      "cell_type": "code",
      "metadata": {
        "id": "5mt7NpqOPPau",
        "colab_type": "code",
        "colab": {
          "base_uri": "https://localhost:8080/",
          "height": 204
        },
        "outputId": "c9b68f88-b100-46e1-a9c2-a80cd158ae13"
      },
      "source": [
        "emb = t.nn.Embedding(20, 2, padding_idx=0)\n",
        "lstm = t.nn.LSTM(input_size=2, hidden_size=4, batch_first=True)\n",
        "\n",
        "a_input = emb(a)\n",
        "\n",
        "a_input"
      ],
      "execution_count": null,
      "outputs": [
        {
          "output_type": "execute_result",
          "data": {
            "text/plain": [
              "tensor([[[-1.1957,  0.9629],\n",
              "         [-0.0566,  0.3349],\n",
              "         [ 0.0000,  0.0000]],\n",
              "\n",
              "        [[ 1.5342,  1.1001],\n",
              "         [ 0.0000,  0.0000],\n",
              "         [ 0.0000,  0.0000]],\n",
              "\n",
              "        [[ 0.8921,  0.0523],\n",
              "         [ 0.0000,  0.0000],\n",
              "         [ 0.0000,  0.0000]]], grad_fn=<EmbeddingBackward>)"
            ]
          },
          "metadata": {
            "tags": []
          },
          "execution_count": 46
        }
      ]
    },
    {
      "cell_type": "code",
      "metadata": {
        "id": "usMOFGTIXAwF",
        "colab_type": "code",
        "colab": {
          "base_uri": "https://localhost:8080/",
          "height": 34
        },
        "outputId": "3e03c67e-66c5-4950-eff2-9dec103ce9e8"
      },
      "source": [
        "a_lengths"
      ],
      "execution_count": null,
      "outputs": [
        {
          "output_type": "execute_result",
          "data": {
            "text/plain": [
              "tensor([2, 1, 1])"
            ]
          },
          "metadata": {
            "tags": []
          },
          "execution_count": 47
        }
      ]
    },
    {
      "cell_type": "code",
      "metadata": {
        "id": "PHoNg7a3Rt45",
        "colab_type": "code",
        "colab": {
          "base_uri": "https://localhost:8080/",
          "height": 85
        },
        "outputId": "0bc14235-6472-4c72-b8a8-abf967711c7a"
      },
      "source": [
        "a_packed_input = t.nn.utils.rnn.pack_padded_sequence(input=a_input, lengths=a_lengths, batch_first=True)\n",
        "\n",
        "a_packed_input"
      ],
      "execution_count": null,
      "outputs": [
        {
          "output_type": "execute_result",
          "data": {
            "text/plain": [
              "PackedSequence(data=tensor([[-1.1957,  0.9629],\n",
              "        [ 1.5342,  1.1001],\n",
              "        [ 0.8921,  0.0523],\n",
              "        [-0.0566,  0.3349]], grad_fn=<PackPaddedSequenceBackward>), batch_sizes=tensor([3, 1]), sorted_indices=None, unsorted_indices=None)"
            ]
          },
          "metadata": {
            "tags": []
          },
          "execution_count": 50
        }
      ]
    },
    {
      "cell_type": "code",
      "metadata": {
        "id": "VNJ-gX-1Sf4z",
        "colab_type": "code",
        "colab": {
          "base_uri": "https://localhost:8080/",
          "height": 85
        },
        "outputId": "82b78aad-d3dd-42be-b7ff-1327429ca1ef"
      },
      "source": [
        "packed_out, _ = lstm(a_packed_input)\n",
        "\n",
        "packed_out"
      ],
      "execution_count": null,
      "outputs": [
        {
          "output_type": "execute_result",
          "data": {
            "text/plain": [
              "PackedSequence(data=tensor([[ 0.0250,  0.1487, -0.0471,  0.1455],\n",
              "        [ 0.0609,  0.0426,  0.2460,  0.3343],\n",
              "        [ 0.0500,  0.0363,  0.1835,  0.2368],\n",
              "        [ 0.0540,  0.2297,  0.0298,  0.2458]], grad_fn=<CatBackward>), batch_sizes=tensor([3, 1]), sorted_indices=None, unsorted_indices=None)"
            ]
          },
          "metadata": {
            "tags": []
          },
          "execution_count": 51
        }
      ]
    },
    {
      "cell_type": "code",
      "metadata": {
        "id": "i2QFjnC4TNc3",
        "colab_type": "code",
        "colab": {}
      },
      "source": [
        "out, _ = pad_packed_sequence(packed_out, total_length=3, batch_first=True)"
      ],
      "execution_count": null,
      "outputs": []
    },
    {
      "cell_type": "code",
      "metadata": {
        "id": "mRvXC9OATfsX",
        "colab_type": "code",
        "colab": {
          "base_uri": "https://localhost:8080/",
          "height": 204
        },
        "outputId": "6534bf65-4a1c-4367-b0e6-c3e31ba106d0"
      },
      "source": [
        "out"
      ],
      "execution_count": null,
      "outputs": [
        {
          "output_type": "execute_result",
          "data": {
            "text/plain": [
              "tensor([[[ 0.0250,  0.1487, -0.0471,  0.1455],\n",
              "         [ 0.0540,  0.2297,  0.0298,  0.2458],\n",
              "         [ 0.0000,  0.0000,  0.0000,  0.0000]],\n",
              "\n",
              "        [[ 0.0609,  0.0426,  0.2460,  0.3343],\n",
              "         [ 0.0000,  0.0000,  0.0000,  0.0000],\n",
              "         [ 0.0000,  0.0000,  0.0000,  0.0000]],\n",
              "\n",
              "        [[ 0.0500,  0.0363,  0.1835,  0.2368],\n",
              "         [ 0.0000,  0.0000,  0.0000,  0.0000],\n",
              "         [ 0.0000,  0.0000,  0.0000,  0.0000]]], grad_fn=<TransposeBackward0>)"
            ]
          },
          "metadata": {
            "tags": []
          },
          "execution_count": 53
        }
      ]
    },
    {
      "cell_type": "code",
      "metadata": {
        "id": "NHyiAN76TgZY",
        "colab_type": "code",
        "colab": {}
      },
      "source": [
        "out = t.index_select(out, 0, un_idx)"
      ],
      "execution_count": null,
      "outputs": []
    },
    {
      "cell_type": "code",
      "metadata": {
        "id": "dNCJpPNbVFWR",
        "colab_type": "code",
        "colab": {
          "base_uri": "https://localhost:8080/",
          "height": 204
        },
        "outputId": "5b6e34cd-ff47-4818-8832-89e3967bf86c"
      },
      "source": [
        "out"
      ],
      "execution_count": null,
      "outputs": [
        {
          "output_type": "execute_result",
          "data": {
            "text/plain": [
              "tensor([[[-0.1458, -0.0717,  0.0040,  0.1584],\n",
              "         [-0.1350, -0.0723,  0.0484,  0.1315],\n",
              "         [-0.0200, -0.0661,  0.1174,  0.0087]],\n",
              "\n",
              "        [[-0.2075, -0.1383,  0.1451,  0.2237],\n",
              "         [ 0.0000,  0.0000,  0.0000,  0.0000],\n",
              "         [ 0.0000,  0.0000,  0.0000,  0.0000]],\n",
              "\n",
              "        [[-0.1805, -0.1080,  0.0656,  0.1926],\n",
              "         [-0.1433, -0.1341,  0.0206,  0.2294],\n",
              "         [ 0.0000,  0.0000,  0.0000,  0.0000]]], grad_fn=<IndexSelectBackward>)"
            ]
          },
          "metadata": {
            "tags": []
          },
          "execution_count": 21
        }
      ]
    },
    {
      "cell_type": "code",
      "metadata": {
        "id": "B_sQ1SdgVGHt",
        "colab_type": "code",
        "colab": {}
      },
      "source": [
        "b = "
      ],
      "execution_count": null,
      "outputs": []
    }
  ]
}